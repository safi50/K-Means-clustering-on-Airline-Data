{
  "nbformat": 4,
  "nbformat_minor": 0,
  "metadata": {
    "colab": {
      "provenance": [],
      "authorship_tag": "ABX9TyNjKhzt4hMOgEc7vvkZcR0Y",
      "include_colab_link": true
    },
    "kernelspec": {
      "name": "python3",
      "display_name": "Python 3"
    },
    "language_info": {
      "name": "python"
    }
  },
  "cells": [
    {
      "cell_type": "markdown",
      "metadata": {
        "id": "view-in-github",
        "colab_type": "text"
      },
      "source": [
        "<a href=\"https://colab.research.google.com/github/safi50/K-Means-clustering-on-Airline-Data/blob/main/K_Means_clustering_on_Airline_Data_PySpark.ipynb\" target=\"_parent\"><img src=\"https://colab.research.google.com/assets/colab-badge.svg\" alt=\"Open In Colab\"/></a>"
      ]
    },
    {
      "cell_type": "code",
      "execution_count": 58,
      "metadata": {
        "id": "CNkkhQzLmIqD"
      },
      "outputs": [],
      "source": [
        "# !pip install pyspark"
      ]
    },
    {
      "cell_type": "code",
      "source": [
        "import pyspark\n",
        "from pyspark.sql import SparkSession\n",
        "from pyspark.sql.functions import col, mean, round\n",
        "from pyspark.ml.clustering import KMeans\n",
        "from pyspark.ml.feature import VectorAssembler, StandardScaler\n",
        "from pyspark.ml.evaluation import ClusteringEvaluator"
      ],
      "metadata": {
        "id": "f7UimrymTuSC"
      },
      "execution_count": 59,
      "outputs": []
    },
    {
      "cell_type": "code",
      "source": [
        "spark = SparkSession.builder.appName('Airline Kmeans').getOrCreate()"
      ],
      "metadata": {
        "id": "iBsI7kijUNWL"
      },
      "execution_count": 60,
      "outputs": []
    },
    {
      "cell_type": "code",
      "source": [
        "data = spark.read.csv('airlines1.csv', inferSchema=True, header=True)\n",
        "data.take(1)"
      ],
      "metadata": {
        "colab": {
          "base_uri": "https://localhost:8080/"
        },
        "id": "MP_J5_BDXOh5",
        "outputId": "41fcea2f-5365-4396-90b5-8a7bb09962d1"
      },
      "execution_count": 61,
      "outputs": [
        {
          "output_type": "execute_result",
          "data": {
            "text/plain": [
              "[Row(_c0=0, Year=1998, Quarter=1, Month=1, DayofMonth=2, DayOfWeek=5, FlightDate=datetime.date(1998, 1, 2), Reporting_Airline='NW', DOT_ID_Reporting_Airline=19386, IATA_CODE_Reporting_Airline='NW', Tail_Number='N297US', Flight_Number_Reporting_Airline=675, OriginAirportID=13487, OriginAirportSeqID=1348701, OriginCityMarketID=31650, Origin='MSP', OriginCityName='Minneapolis, MN', OriginState='MN', OriginStateFips=27.0, OriginStateName='Minnesota', OriginWac=63, DestAirportID=14869, DestAirportSeqID=1486902, DestCityMarketID=34614, Dest='SLC', DestCityName='Salt Lake City, UT', DestState='UT', DestStateFips=49.0, DestStateName='Utah', DestWac=87, CRSDepTime=1640, DepTime=1659.0, DepDelay=19.0, DepDelayMinutes=19.0, DepDel15=1.0, DepartureDelayGroups=1.0, DepTimeBlk='1600-1659', TaxiOut=24.0, WheelsOff=1723.0, WheelsOn=1856.0, TaxiIn=3.0, CRSArrTime=1836, ArrTime=1859.0, ArrDelay=23.0, ArrDelayMinutes=23.0, ArrDel15=1.0, ArrivalDelayGroups=1.0, ArrTimeBlk='1800-1859', Cancelled=0.0, CancellationCode=None, Diverted=0.0, CRSElapsedTime=176.0, ActualElapsedTime=180.0, AirTime=153.0, Flights=1.0, Distance=991.0, DistanceGroup=4, CarrierDelay=None, WeatherDelay=None, NASDelay=None, SecurityDelay=None, LateAircraftDelay=None, FirstDepTime=None, TotalAddGTime=None, LongestAddGTime=None, DivAirportLandings=None, DivReachedDest=None, DivActualElapsedTime=None, DivArrDelay=None, DivDistance=None, Div1Airport=None, Div1AirportID=None, Div1AirportSeqID=None, Div1WheelsOn=None, Div1TotalGTime=None, Div1LongestGTime=None, Div1WheelsOff=None, Div1TailNum=None, Div2Airport=None, Div2AirportID=None, Div2AirportSeqID=None, Div2WheelsOn=None, Div2TotalGTime=None, Div2LongestGTime=None, Div2WheelsOff=None, Div2TailNum=None, Div3Airport=None, Div3AirportID=None, Div3AirportSeqID=None, Div3WheelsOn=None, Div3TotalGTime=None, Div3LongestGTime=None, Div3WheelsOff=None, Div3TailNum=None, Div4Airport=None, Div4AirportID=None, Div4AirportSeqID=None, Div4WheelsOn=None, Div4TotalGTime=None, Div4LongestGTime=None, Div4WheelsOff=None, Div4TailNum=None, Div5Airport=None, Div5AirportID=None, Div5AirportSeqID=None, Div5WheelsOn=None, Div5TotalGTime=None, Div5LongestGTime=None, Div5WheelsOff=None, Div5TailNum=None)]"
            ]
          },
          "metadata": {},
          "execution_count": 61
        }
      ]
    },
    {
      "cell_type": "code",
      "source": [
        "data.count()"
      ],
      "metadata": {
        "colab": {
          "base_uri": "https://localhost:8080/"
        },
        "id": "Qo1I5ynjXsju",
        "outputId": "a498b87c-8f34-4297-8dc8-e2d58c979d66"
      },
      "execution_count": 62,
      "outputs": [
        {
          "output_type": "execute_result",
          "data": {
            "text/plain": [
              "50001"
            ]
          },
          "metadata": {},
          "execution_count": 62
        }
      ]
    },
    {
      "cell_type": "code",
      "source": [
        "airline_data = data.select('Origin', 'Dest', 'AirTime', 'Distance')\n",
        "airline_data.cache()\n",
        "airline_data.show(50)"
      ],
      "metadata": {
        "colab": {
          "base_uri": "https://localhost:8080/"
        },
        "id": "HL7IvMr9X2Vx",
        "outputId": "4bb411f6-78c5-48bc-c1e9-3851bb64b6c4"
      },
      "execution_count": 63,
      "outputs": [
        {
          "output_type": "stream",
          "name": "stdout",
          "text": [
            "+------+----+-------+--------+\n",
            "|Origin|Dest|AirTime|Distance|\n",
            "+------+----+-------+--------+\n",
            "|   MSP| SLC|  153.0|   991.0|\n",
            "|   MKE| MCO|  141.0|  1066.0|\n",
            "|   GJT| DFW|  103.0|   773.0|\n",
            "|   LAX| DTW|  220.0|  1979.0|\n",
            "|   EWR| CLT|   80.0|   529.0|\n",
            "|   DFW| SHV|   28.0|   190.0|\n",
            "|   BOS| CLE|   94.0|   563.0|\n",
            "|   ATL| CAE|   35.0|   192.0|\n",
            "|   ORD| CLE|   59.0|   316.0|\n",
            "|   MDW| DAL|  114.0|   793.0|\n",
            "|   SAN| LAX|   NULL|   109.0|\n",
            "|   ELP| DAL|   77.0|   562.0|\n",
            "|   SJU| MIA|   NULL|  1045.0|\n",
            "|   ABQ| LAX|   95.0|   677.0|\n",
            "|   ORD| LGA|   99.0|   733.0|\n",
            "|   GSO| BWI|   NULL|   278.0|\n",
            "|   DTW| MBS|   24.0|    98.0|\n",
            "|   SLC| SEA|  102.0|   689.0|\n",
            "|   LAX| IAD|  255.0|  2288.0|\n",
            "|   SMF| LAX|   NULL|   373.0|\n",
            "|   MSY| ORD|  119.0|   837.0|\n",
            "|   SGF| ATL|   85.0|   563.0|\n",
            "|   IND| STL|   NULL|   229.0|\n",
            "|   PHX| LGB|   62.0|   355.0|\n",
            "|   BUR| SFO|   53.0|   326.0|\n",
            "|   DCA| BOS|   63.0|   399.0|\n",
            "|   DFW| ATL|  101.0|   732.0|\n",
            "|   CAE| ATL|   39.0|   192.0|\n",
            "|   ORD| DSM|   NULL|   299.0|\n",
            "|   RDU| SRQ|   NULL|   625.0|\n",
            "|   JAX| BOS|  149.0|  1010.0|\n",
            "|   CHO| CLT|   52.0|   245.0|\n",
            "|   JFK| SFO|   NULL|  2586.0|\n",
            "|   DEN| BUR|  117.0|   850.0|\n",
            "|   MCI| STL|   38.0|   237.0|\n",
            "|   DCA| DTW|   NULL|   405.0|\n",
            "|   BOS| DCA|   NULL|   399.0|\n",
            "|   HNL| ORD|  428.0|  4244.0|\n",
            "|   DEN| MFR|  126.0|   964.0|\n",
            "|   SEA| SAN|  129.0|  1050.0|\n",
            "|   ATL| DFW|  121.0|   732.0|\n",
            "|   ATL| ORD|   91.0|   606.0|\n",
            "|   SEA| IAH|   NULL|  1874.0|\n",
            "|   MDW| SAN|  217.0|  1728.0|\n",
            "|   MSP| PHX|  165.0|  1276.0|\n",
            "|   MSP| BWI|  120.0|   936.0|\n",
            "|   JFK| DFW|   NULL|  1391.0|\n",
            "|   PIT| CVG|   NULL|   256.0|\n",
            "|   IND| MCO|  118.0|   828.0|\n",
            "|   PHX| LAX|   57.0|   370.0|\n",
            "+------+----+-------+--------+\n",
            "only showing top 50 rows\n",
            "\n"
          ]
        }
      ]
    },
    {
      "cell_type": "code",
      "source": [
        "airline_data.printSchema()"
      ],
      "metadata": {
        "colab": {
          "base_uri": "https://localhost:8080/"
        },
        "id": "wfxU1o3BYLBw",
        "outputId": "260aec29-3e3c-4b4c-97af-801b8a6bf115"
      },
      "execution_count": 64,
      "outputs": [
        {
          "output_type": "stream",
          "name": "stdout",
          "text": [
            "root\n",
            " |-- Origin: string (nullable = true)\n",
            " |-- Dest: string (nullable = true)\n",
            " |-- AirTime: double (nullable = true)\n",
            " |-- Distance: double (nullable = true)\n",
            "\n"
          ]
        }
      ]
    },
    {
      "cell_type": "code",
      "source": [
        "airline_data = airline_data.withColumn('AirTime', airline_data['AirTime'].cast('integer'))\n",
        "airline_data = airline_data.withColumn('Distance', airline_data['Distance'].cast('integer'))\n",
        "airline_data.printSchema()"
      ],
      "metadata": {
        "colab": {
          "base_uri": "https://localhost:8080/"
        },
        "id": "VJdRMjXhYQKT",
        "outputId": "e3928a1e-8f1a-482d-9f5f-cab62e8a79e5"
      },
      "execution_count": 65,
      "outputs": [
        {
          "output_type": "stream",
          "name": "stdout",
          "text": [
            "root\n",
            " |-- Origin: string (nullable = true)\n",
            " |-- Dest: string (nullable = true)\n",
            " |-- AirTime: integer (nullable = true)\n",
            " |-- Distance: integer (nullable = true)\n",
            "\n"
          ]
        }
      ]
    },
    {
      "cell_type": "code",
      "source": [
        "print(airline_data.where(col('AirTime').isNull()).count())\n",
        "print(airline_data.where(col('Distance').isNull()).count())"
      ],
      "metadata": {
        "colab": {
          "base_uri": "https://localhost:8080/"
        },
        "id": "yf6jiDxcYYjG",
        "outputId": "fa90fe12-6300-46d4-f04e-fa5992d9f446"
      },
      "execution_count": 66,
      "outputs": [
        {
          "output_type": "stream",
          "name": "stdout",
          "text": [
            "10529\n",
            "0\n"
          ]
        }
      ]
    },
    {
      "cell_type": "code",
      "source": [
        "mean_airtime = airline_data.select(mean(col('AirTime'))).first()[0]\n",
        "mean_airtime"
      ],
      "metadata": {
        "colab": {
          "base_uri": "https://localhost:8080/"
        },
        "id": "xjjqDEJ0cFFq",
        "outputId": "724ad1bb-2932-433d-c4ad-2d5235cae487"
      },
      "execution_count": 67,
      "outputs": [
        {
          "output_type": "execute_result",
          "data": {
            "text/plain": [
              "105.83902513173895"
            ]
          },
          "metadata": {},
          "execution_count": 67
        }
      ]
    },
    {
      "cell_type": "code",
      "source": [
        "airline_data = airline_data.fillna({'AirTime': mean_airtime})\n",
        "airline_data.where(col('AirTime').isNull()).count(), airline_data.show(20)"
      ],
      "metadata": {
        "colab": {
          "base_uri": "https://localhost:8080/"
        },
        "id": "7_Rtn1KjcZ59",
        "outputId": "2dc65222-f72f-4191-bcc7-f664f3d006ba"
      },
      "execution_count": 68,
      "outputs": [
        {
          "output_type": "stream",
          "name": "stdout",
          "text": [
            "+------+----+-------+--------+\n",
            "|Origin|Dest|AirTime|Distance|\n",
            "+------+----+-------+--------+\n",
            "|   MSP| SLC|    153|     991|\n",
            "|   MKE| MCO|    141|    1066|\n",
            "|   GJT| DFW|    103|     773|\n",
            "|   LAX| DTW|    220|    1979|\n",
            "|   EWR| CLT|     80|     529|\n",
            "|   DFW| SHV|     28|     190|\n",
            "|   BOS| CLE|     94|     563|\n",
            "|   ATL| CAE|     35|     192|\n",
            "|   ORD| CLE|     59|     316|\n",
            "|   MDW| DAL|    114|     793|\n",
            "|   SAN| LAX|    105|     109|\n",
            "|   ELP| DAL|     77|     562|\n",
            "|   SJU| MIA|    105|    1045|\n",
            "|   ABQ| LAX|     95|     677|\n",
            "|   ORD| LGA|     99|     733|\n",
            "|   GSO| BWI|    105|     278|\n",
            "|   DTW| MBS|     24|      98|\n",
            "|   SLC| SEA|    102|     689|\n",
            "|   LAX| IAD|    255|    2288|\n",
            "|   SMF| LAX|    105|     373|\n",
            "+------+----+-------+--------+\n",
            "only showing top 20 rows\n",
            "\n"
          ]
        },
        {
          "output_type": "execute_result",
          "data": {
            "text/plain": [
              "(0, None)"
            ]
          },
          "metadata": {},
          "execution_count": 68
        }
      ]
    },
    {
      "cell_type": "code",
      "source": [
        "airline_data = airline_data.withColumn('Distance', round(airline_data.Distance * 1.60034, 0))\n",
        "airline_data = airline_data.withColumn('AirTime', round(airline_data.AirTime, 0))\n",
        "airline_data.show(20)"
      ],
      "metadata": {
        "colab": {
          "base_uri": "https://localhost:8080/"
        },
        "id": "1NZJDDYIcZwl",
        "outputId": "c9d88a26-f66a-4e6b-f70f-656230d6c3eb"
      },
      "execution_count": 69,
      "outputs": [
        {
          "output_type": "stream",
          "name": "stdout",
          "text": [
            "+------+----+-------+--------+\n",
            "|Origin|Dest|AirTime|Distance|\n",
            "+------+----+-------+--------+\n",
            "|   MSP| SLC|    153|  1586.0|\n",
            "|   MKE| MCO|    141|  1706.0|\n",
            "|   GJT| DFW|    103|  1237.0|\n",
            "|   LAX| DTW|    220|  3167.0|\n",
            "|   EWR| CLT|     80|   847.0|\n",
            "|   DFW| SHV|     28|   304.0|\n",
            "|   BOS| CLE|     94|   901.0|\n",
            "|   ATL| CAE|     35|   307.0|\n",
            "|   ORD| CLE|     59|   506.0|\n",
            "|   MDW| DAL|    114|  1269.0|\n",
            "|   SAN| LAX|    105|   174.0|\n",
            "|   ELP| DAL|     77|   899.0|\n",
            "|   SJU| MIA|    105|  1672.0|\n",
            "|   ABQ| LAX|     95|  1083.0|\n",
            "|   ORD| LGA|     99|  1173.0|\n",
            "|   GSO| BWI|    105|   445.0|\n",
            "|   DTW| MBS|     24|   157.0|\n",
            "|   SLC| SEA|    102|  1103.0|\n",
            "|   LAX| IAD|    255|  3662.0|\n",
            "|   SMF| LAX|    105|   597.0|\n",
            "+------+----+-------+--------+\n",
            "only showing top 20 rows\n",
            "\n"
          ]
        }
      ]
    },
    {
      "cell_type": "markdown",
      "source": [
        "## Vectorizing Features"
      ],
      "metadata": {
        "id": "szq8wvt0eigW"
      }
    },
    {
      "cell_type": "code",
      "source": [
        "vectorizer = VectorAssembler(inputCols=['AirTime', 'Distance'], outputCol='features')\n",
        "dataset = vectorizer.setHandleInvalid(\"keep\").transform(airline_data)\n",
        "dataset.show(20)"
      ],
      "metadata": {
        "colab": {
          "base_uri": "https://localhost:8080/"
        },
        "id": "u3JtBZyJekzs",
        "outputId": "977cbf67-f861-4829-c79f-25c79a780183"
      },
      "execution_count": 70,
      "outputs": [
        {
          "output_type": "stream",
          "name": "stdout",
          "text": [
            "+------+----+-------+--------+--------------+\n",
            "|Origin|Dest|AirTime|Distance|      features|\n",
            "+------+----+-------+--------+--------------+\n",
            "|   MSP| SLC|    153|  1586.0|[153.0,1586.0]|\n",
            "|   MKE| MCO|    141|  1706.0|[141.0,1706.0]|\n",
            "|   GJT| DFW|    103|  1237.0|[103.0,1237.0]|\n",
            "|   LAX| DTW|    220|  3167.0|[220.0,3167.0]|\n",
            "|   EWR| CLT|     80|   847.0|  [80.0,847.0]|\n",
            "|   DFW| SHV|     28|   304.0|  [28.0,304.0]|\n",
            "|   BOS| CLE|     94|   901.0|  [94.0,901.0]|\n",
            "|   ATL| CAE|     35|   307.0|  [35.0,307.0]|\n",
            "|   ORD| CLE|     59|   506.0|  [59.0,506.0]|\n",
            "|   MDW| DAL|    114|  1269.0|[114.0,1269.0]|\n",
            "|   SAN| LAX|    105|   174.0| [105.0,174.0]|\n",
            "|   ELP| DAL|     77|   899.0|  [77.0,899.0]|\n",
            "|   SJU| MIA|    105|  1672.0|[105.0,1672.0]|\n",
            "|   ABQ| LAX|     95|  1083.0| [95.0,1083.0]|\n",
            "|   ORD| LGA|     99|  1173.0| [99.0,1173.0]|\n",
            "|   GSO| BWI|    105|   445.0| [105.0,445.0]|\n",
            "|   DTW| MBS|     24|   157.0|  [24.0,157.0]|\n",
            "|   SLC| SEA|    102|  1103.0|[102.0,1103.0]|\n",
            "|   LAX| IAD|    255|  3662.0|[255.0,3662.0]|\n",
            "|   SMF| LAX|    105|   597.0| [105.0,597.0]|\n",
            "+------+----+-------+--------+--------------+\n",
            "only showing top 20 rows\n",
            "\n"
          ]
        }
      ]
    },
    {
      "cell_type": "code",
      "source": [
        "kmeans = KMeans().setK(5).setSeed(1)\n",
        "model = kmeans.fit(dataset)"
      ],
      "metadata": {
        "id": "ePXDCwROfJW5"
      },
      "execution_count": 71,
      "outputs": []
    },
    {
      "cell_type": "code",
      "source": [
        "eval = ClusteringEvaluator()"
      ],
      "metadata": {
        "id": "DaIccHxPfhj-"
      },
      "execution_count": 72,
      "outputs": []
    },
    {
      "cell_type": "code",
      "source": [
        "preds = model.transform(dataset)\n",
        "preds.show(20)"
      ],
      "metadata": {
        "colab": {
          "base_uri": "https://localhost:8080/"
        },
        "id": "TCQGNBbKflQe",
        "outputId": "ecd1cba2-e2f4-4df7-e46e-e37d48161ccf"
      },
      "execution_count": 73,
      "outputs": [
        {
          "output_type": "stream",
          "name": "stdout",
          "text": [
            "+------+----+-------+--------+--------------+----------+\n",
            "|Origin|Dest|AirTime|Distance|      features|prediction|\n",
            "+------+----+-------+--------+--------------+----------+\n",
            "|   MSP| SLC|    153|  1586.0|[153.0,1586.0]|         4|\n",
            "|   MKE| MCO|    141|  1706.0|[141.0,1706.0]|         4|\n",
            "|   GJT| DFW|    103|  1237.0|[103.0,1237.0]|         1|\n",
            "|   LAX| DTW|    220|  3167.0|[220.0,3167.0]|         3|\n",
            "|   EWR| CLT|     80|   847.0|  [80.0,847.0]|         1|\n",
            "|   DFW| SHV|     28|   304.0|  [28.0,304.0]|         2|\n",
            "|   BOS| CLE|     94|   901.0|  [94.0,901.0]|         1|\n",
            "|   ATL| CAE|     35|   307.0|  [35.0,307.0]|         2|\n",
            "|   ORD| CLE|     59|   506.0|  [59.0,506.0]|         2|\n",
            "|   MDW| DAL|    114|  1269.0|[114.0,1269.0]|         1|\n",
            "|   SAN| LAX|    105|   174.0| [105.0,174.0]|         2|\n",
            "|   ELP| DAL|     77|   899.0|  [77.0,899.0]|         1|\n",
            "|   SJU| MIA|    105|  1672.0|[105.0,1672.0]|         4|\n",
            "|   ABQ| LAX|     95|  1083.0| [95.0,1083.0]|         1|\n",
            "|   ORD| LGA|     99|  1173.0| [99.0,1173.0]|         1|\n",
            "|   GSO| BWI|    105|   445.0| [105.0,445.0]|         2|\n",
            "|   DTW| MBS|     24|   157.0|  [24.0,157.0]|         2|\n",
            "|   SLC| SEA|    102|  1103.0|[102.0,1103.0]|         1|\n",
            "|   LAX| IAD|    255|  3662.0|[255.0,3662.0]|         0|\n",
            "|   SMF| LAX|    105|   597.0| [105.0,597.0]|         2|\n",
            "+------+----+-------+--------+--------------+----------+\n",
            "only showing top 20 rows\n",
            "\n"
          ]
        }
      ]
    },
    {
      "cell_type": "code",
      "source": [
        "silhouette = eval.evaluate(preds)\n",
        "print(f'Silhouette with squared euclidean distance = {silhouette}')"
      ],
      "metadata": {
        "colab": {
          "base_uri": "https://localhost:8080/"
        },
        "id": "iqVf-g-uft7F",
        "outputId": "e90aef9d-988b-49ba-db84-7fad37cb9448"
      },
      "execution_count": 74,
      "outputs": [
        {
          "output_type": "stream",
          "name": "stdout",
          "text": [
            "Silhouette with squared euclidean distance = 0.7419395970412536\n"
          ]
        }
      ]
    },
    {
      "cell_type": "code",
      "source": [
        "centroids = model.clusterCenters()\n",
        "print('Cluster Centers: ')\n",
        "for centroid in centroids:\n",
        "    print(centroid)"
      ],
      "metadata": {
        "colab": {
          "base_uri": "https://localhost:8080/"
        },
        "id": "ntKtWtulf8oC",
        "outputId": "001d2177-c474-428a-82fa-3772249472e5"
      },
      "execution_count": 75,
      "outputs": [
        {
          "output_type": "stream",
          "name": "stdout",
          "text": [
            "Cluster Centers: \n",
            "[ 272.83681462 3887.7924282 ]\n",
            "[ 92.25634611 967.78132588]\n",
            "[ 62.5674548  432.65935198]\n",
            "[ 189.36312598 2594.03570627]\n",
            "[ 131.22506344 1619.63458911]\n"
          ]
        }
      ]
    },
    {
      "cell_type": "code",
      "source": [
        "preds.groupBy('prediction').count().show()"
      ],
      "metadata": {
        "colab": {
          "base_uri": "https://localhost:8080/"
        },
        "id": "bvfZHc-qgawD",
        "outputId": "fb1bf9cc-bb23-40e8-dc52-4f6fc28175d2"
      },
      "execution_count": 76,
      "outputs": [
        {
          "output_type": "stream",
          "name": "stdout",
          "text": [
            "+----------+-----+\n",
            "|prediction|count|\n",
            "+----------+-----+\n",
            "|         1|13591|\n",
            "|         3| 4453|\n",
            "|         4|10246|\n",
            "|         2|19413|\n",
            "|         0| 2298|\n",
            "+----------+-----+\n",
            "\n"
          ]
        }
      ]
    },
    {
      "cell_type": "code",
      "source": [
        "preds.select('Origin', 'Dest', 'AirTime', 'Distance').where(preds.prediction == '1').show(20)"
      ],
      "metadata": {
        "colab": {
          "base_uri": "https://localhost:8080/"
        },
        "id": "49zU1fHZgedx",
        "outputId": "203ad4e7-1674-4bd1-de3b-c238d3f2c9d2"
      },
      "execution_count": 77,
      "outputs": [
        {
          "output_type": "stream",
          "name": "stdout",
          "text": [
            "+------+----+-------+--------+\n",
            "|Origin|Dest|AirTime|Distance|\n",
            "+------+----+-------+--------+\n",
            "|   GJT| DFW|    103|  1237.0|\n",
            "|   EWR| CLT|     80|   847.0|\n",
            "|   BOS| CLE|     94|   901.0|\n",
            "|   MDW| DAL|    114|  1269.0|\n",
            "|   ELP| DAL|     77|   899.0|\n",
            "|   ABQ| LAX|     95|  1083.0|\n",
            "|   ORD| LGA|     99|  1173.0|\n",
            "|   SLC| SEA|    102|  1103.0|\n",
            "|   SGF| ATL|     85|   901.0|\n",
            "|   DFW| ATL|    101|  1171.0|\n",
            "|   RDU| SRQ|    105|  1000.0|\n",
            "|   ATL| DFW|    121|  1171.0|\n",
            "|   ATL| ORD|     91|   970.0|\n",
            "|   AUS| ELP|     80|   845.0|\n",
            "|   LNK| ORD|     71|   746.0|\n",
            "|   PHX| OAK|    102|  1034.0|\n",
            "|   MEM| TPA|    105|  1050.0|\n",
            "|   ATL| MDW|     93|   946.0|\n",
            "|   ATL| DFW|    116|  1171.0|\n",
            "|   MSY| FLL|     97|  1079.0|\n",
            "+------+----+-------+--------+\n",
            "only showing top 20 rows\n",
            "\n"
          ]
        }
      ]
    }
  ]
}